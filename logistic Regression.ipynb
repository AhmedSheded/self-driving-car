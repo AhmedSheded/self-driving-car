{
 "cells": [
  {
   "cell_type": "code",
   "execution_count": 31,
   "metadata": {
    "collapsed": true,
    "pycharm": {
     "name": "#%%\n"
    }
   },
   "outputs": [],
   "source": [
    "import numpy as np\n",
    "import matplotlib.pyplot as plt"
   ]
  },
  {
   "cell_type": "code",
   "execution_count": 52,
   "outputs": [],
   "source": [
    "def draw(x1, x2):\n",
    "    ln = plt.plot(x1, x2)\n",
    "\n",
    "def sigmoid(z):\n",
    "    return 1/(1+np.exp(-z))\n",
    "\n",
    "def calculate_error(line_param, points, y):\n",
    "    m = points.shape[0]\n",
    "    p = sigmoid(points*line_param)\n",
    "    cross_entropy = -(1/m)*(np.log(p).T*y + (1-p).T*(1-y))\n",
    "    return cross_entropy"
   ],
   "metadata": {
    "collapsed": false,
    "pycharm": {
     "name": "#%%\n"
    }
   }
  },
  {
   "cell_type": "code",
   "execution_count": 67,
   "outputs": [
    {
     "data": {
      "text/plain": "array([[0.],\n       [0.],\n       [0.],\n       [0.],\n       [0.],\n       [0.],\n       [0.],\n       [0.],\n       [0.],\n       [0.],\n       [0.],\n       [0.],\n       [0.],\n       [0.],\n       [0.],\n       [0.],\n       [0.],\n       [0.],\n       [0.],\n       [0.],\n       [0.],\n       [0.],\n       [0.],\n       [0.],\n       [0.],\n       [0.],\n       [0.],\n       [0.],\n       [0.],\n       [0.],\n       [0.],\n       [0.],\n       [0.],\n       [0.],\n       [0.],\n       [0.],\n       [0.],\n       [0.],\n       [0.],\n       [0.],\n       [0.],\n       [0.],\n       [0.],\n       [0.],\n       [0.],\n       [0.],\n       [0.],\n       [0.],\n       [0.],\n       [0.],\n       [0.],\n       [0.],\n       [0.],\n       [0.],\n       [0.],\n       [0.],\n       [0.],\n       [0.],\n       [0.],\n       [0.],\n       [0.],\n       [0.],\n       [0.],\n       [0.],\n       [0.],\n       [0.],\n       [0.],\n       [0.],\n       [0.],\n       [0.],\n       [0.],\n       [0.],\n       [0.],\n       [0.],\n       [0.],\n       [0.],\n       [0.],\n       [0.],\n       [0.],\n       [0.],\n       [0.],\n       [0.],\n       [0.],\n       [0.],\n       [0.],\n       [0.],\n       [0.],\n       [0.],\n       [0.],\n       [0.],\n       [0.],\n       [0.],\n       [0.],\n       [0.],\n       [0.],\n       [0.],\n       [0.],\n       [0.],\n       [0.],\n       [0.],\n       [1.],\n       [1.],\n       [1.],\n       [1.],\n       [1.],\n       [1.],\n       [1.],\n       [1.],\n       [1.],\n       [1.],\n       [1.],\n       [1.],\n       [1.],\n       [1.],\n       [1.],\n       [1.],\n       [1.],\n       [1.],\n       [1.],\n       [1.],\n       [1.],\n       [1.],\n       [1.],\n       [1.],\n       [1.],\n       [1.],\n       [1.],\n       [1.],\n       [1.],\n       [1.],\n       [1.],\n       [1.],\n       [1.],\n       [1.],\n       [1.],\n       [1.],\n       [1.],\n       [1.],\n       [1.],\n       [1.],\n       [1.],\n       [1.],\n       [1.],\n       [1.],\n       [1.],\n       [1.],\n       [1.],\n       [1.],\n       [1.],\n       [1.],\n       [1.],\n       [1.],\n       [1.],\n       [1.],\n       [1.],\n       [1.],\n       [1.],\n       [1.],\n       [1.],\n       [1.],\n       [1.],\n       [1.],\n       [1.],\n       [1.],\n       [1.],\n       [1.],\n       [1.],\n       [1.],\n       [1.],\n       [1.],\n       [1.],\n       [1.],\n       [1.],\n       [1.],\n       [1.],\n       [1.],\n       [1.],\n       [1.],\n       [1.],\n       [1.],\n       [1.],\n       [1.],\n       [1.],\n       [1.],\n       [1.],\n       [1.],\n       [1.],\n       [1.],\n       [1.],\n       [1.],\n       [1.],\n       [1.],\n       [1.],\n       [1.],\n       [1.],\n       [1.],\n       [1.],\n       [1.],\n       [1.],\n       [1.]])"
     },
     "execution_count": 67,
     "metadata": {},
     "output_type": "execute_result"
    }
   ],
   "source": [
    "points=100\n",
    "np.random.seed(2222)\n",
    "bias = np.ones(points)\n",
    "top_region=np.array([np.random.normal(10, 2, points), np.random.normal(12, 2, points), bias]).T\n",
    "bottom_region=np.array([np.random.normal(5, 2, points), np.random.normal(6, 2, points), bias]).T\n",
    "all_points=np.vstack((top_region, bottom_region))\n",
    "w1, w2, b = -0.1, -0.15, 2.1\n",
    "line_parameters=np.matrix([w1, w2, b]).T\n",
    "x1 = np.array([bottom_region[:, 0].min(), top_region[:, 0].max()])\n",
    "x2 = -b / w2+x1*(-w1 / w2)\n",
    "linear_compination=all_points*line_parameters\n",
    "probabilities=sigmoid(linear_compination)\n",
    "y=np.array([np.zeros(points), np.ones(points)]).reshape(points*2, 1)\n",
    "y"
   ],
   "metadata": {
    "collapsed": false,
    "pycharm": {
     "name": "#%%\n"
    }
   }
  },
  {
   "cell_type": "code",
   "execution_count": 68,
   "outputs": [
    {
     "data": {
      "text/plain": "array([[ 8.11841707, 13.5735829 ,  1.        ],\n       [12.02590793,  9.67795535,  1.        ],\n       [10.92916943, 14.47453286,  1.        ],\n       [11.43057172, 11.19256919,  1.        ],\n       [11.09947119, 10.16258843,  1.        ],\n       [ 7.54853604, 11.29896015,  1.        ],\n       [ 9.78485418, 12.7343046 ,  1.        ],\n       [ 9.12813572, 10.50411394,  1.        ],\n       [12.27274336, 12.99093737,  1.        ],\n       [11.22065714, 13.91655833,  1.        ],\n       [13.0887162 , 10.27839997,  1.        ],\n       [ 8.60542216, 12.46231494,  1.        ],\n       [ 9.93014563, 12.19047077,  1.        ],\n       [ 8.91735397, 11.85457191,  1.        ],\n       [12.14635294, 12.25327963,  1.        ],\n       [ 9.16304113,  8.92135002,  1.        ],\n       [10.76732241, 13.35980519,  1.        ],\n       [ 6.41141853, 11.67424322,  1.        ],\n       [ 7.39125028, 13.64646441,  1.        ],\n       [13.89483922, 13.55727638,  1.        ],\n       [11.06242681, 14.50870233,  1.        ],\n       [ 8.71357096, 13.2085523 ,  1.        ],\n       [11.64882655,  8.86508299,  1.        ],\n       [10.94760509,  8.96682741,  1.        ],\n       [11.78605314, 12.97822543,  1.        ],\n       [11.51280488, 11.76456854,  1.        ],\n       [10.05232682, 13.52344479,  1.        ],\n       [11.16283095, 12.70036297,  1.        ],\n       [13.56344228, 14.51216815,  1.        ],\n       [10.16214282, 14.15705265,  1.        ],\n       [ 9.65098401, 11.09529076,  1.        ],\n       [ 7.80334852, 11.9553469 ,  1.        ],\n       [ 6.4073961 , 17.81456357,  1.        ],\n       [ 8.31523296, 11.75596577,  1.        ],\n       [13.67345181, 12.1963091 ,  1.        ],\n       [ 9.28920893, 10.91509978,  1.        ],\n       [ 8.1412721 , 10.70611807,  1.        ],\n       [ 9.32353731, 10.26002703,  1.        ],\n       [10.68932725, 12.8033059 ,  1.        ],\n       [ 8.65345481, 11.24832514,  1.        ],\n       [ 5.86973265, 11.68781113,  1.        ],\n       [ 6.32203975, 12.90439229,  1.        ],\n       [11.56517012, 12.92716449,  1.        ],\n       [ 8.59845946, 14.98018234,  1.        ],\n       [12.8487215 , 10.22606937,  1.        ],\n       [13.28948208, 11.61692793,  1.        ],\n       [13.67528701, 11.04982936,  1.        ],\n       [ 6.68010328, 11.34273237,  1.        ],\n       [13.66928661, 11.17717877,  1.        ],\n       [ 8.45947978, 13.9537103 ,  1.        ],\n       [ 6.37420024,  8.54769683,  1.        ],\n       [11.55505809, 11.90757419,  1.        ],\n       [ 9.94090393, 14.42608638,  1.        ],\n       [ 9.16446399, 13.70365236,  1.        ],\n       [ 8.47128819, 12.69091167,  1.        ],\n       [11.92584272, 13.81231569,  1.        ],\n       [ 5.18775742, 12.23949199,  1.        ],\n       [10.49992577, 13.77906799,  1.        ],\n       [ 8.15164845, 13.85418713,  1.        ],\n       [11.87806552, 10.08573331,  1.        ],\n       [ 8.70217826, 13.83325494,  1.        ],\n       [11.49613812, 11.78794043,  1.        ],\n       [ 9.49312786, 10.1685268 ,  1.        ],\n       [10.52931586, 13.16939729,  1.        ],\n       [11.74575366, 12.30035791,  1.        ],\n       [10.02750948, 10.85972458,  1.        ],\n       [ 8.15836224, 15.14786296,  1.        ],\n       [ 9.80176301, 12.96171978,  1.        ],\n       [12.48226291, 12.50982804,  1.        ],\n       [ 9.36472779,  9.63920126,  1.        ],\n       [ 8.27746152,  9.24755377,  1.        ],\n       [10.52686698, 10.95541752,  1.        ],\n       [ 6.17714254,  9.71587479,  1.        ],\n       [ 7.79799868, 12.79933271,  1.        ],\n       [ 9.3509616 , 13.75529949,  1.        ],\n       [ 9.99177378,  9.55596545,  1.        ],\n       [10.90646687, 12.40201048,  1.        ],\n       [13.62236611, 12.13010268,  1.        ],\n       [12.04590303, 11.16725803,  1.        ],\n       [11.16710723, 15.54764102,  1.        ],\n       [12.72054068,  9.76537602,  1.        ],\n       [11.45956735, 11.73864793,  1.        ],\n       [12.16621024, 13.81307582,  1.        ],\n       [ 8.61149424, 14.5386509 ,  1.        ],\n       [14.50723081,  9.59038024,  1.        ],\n       [13.30329667, 11.63275247,  1.        ],\n       [ 9.05947889, 11.98856302,  1.        ],\n       [ 8.5920425 , 11.70979219,  1.        ],\n       [ 9.10663856, 11.53953288,  1.        ],\n       [10.51877325, 14.64403031,  1.        ],\n       [12.36173499,  8.37353687,  1.        ],\n       [ 8.54187476, 12.28035986,  1.        ],\n       [ 9.2924893 , 11.87884519,  1.        ],\n       [11.21147349, 13.17587513,  1.        ],\n       [10.6132277 , 10.10325823,  1.        ],\n       [ 7.62161377, 12.88571847,  1.        ],\n       [11.63429813, 14.51748771,  1.        ],\n       [10.55623753, 10.61050051,  1.        ],\n       [12.38761295, 15.47513627,  1.        ],\n       [ 8.39840931,  9.59870067,  1.        ],\n       [ 3.82499959,  5.72968792,  1.        ],\n       [ 7.36434819,  3.91169568,  1.        ],\n       [ 2.87215823,  5.9223875 ,  1.        ],\n       [ 5.52668438,  7.35179177,  1.        ],\n       [ 6.42953107,  9.13711195,  1.        ],\n       [ 4.94168575,  5.61716045,  1.        ],\n       [ 5.62063477,  7.85060408,  1.        ],\n       [ 3.275982  ,  9.41796503,  1.        ],\n       [ 6.66010334,  6.13277052,  1.        ],\n       [ 6.56090453,  8.36550419,  1.        ],\n       [ 6.7586792 ,  5.32436455,  1.        ],\n       [ 2.26503713,  5.71762207,  1.        ],\n       [ 3.79848814,  2.39922022,  1.        ],\n       [ 6.60172169,  4.8301471 ,  1.        ],\n       [ 8.16970832,  3.18048347,  1.        ],\n       [ 4.86251504,  4.6976931 ,  1.        ],\n       [ 4.08196119,  3.66898954,  1.        ],\n       [ 4.80558179,  7.38792348,  1.        ],\n       [ 3.43702159,  8.08961972,  1.        ],\n       [ 4.10203391,  8.73968145,  1.        ],\n       [ 5.17906361,  8.80508627,  1.        ],\n       [ 7.97479167,  2.1231207 ,  1.        ],\n       [ 3.43307389,  6.00228075,  1.        ],\n       [ 8.12832925,  5.82374076,  1.        ],\n       [ 3.64603396,  4.60903057,  1.        ],\n       [ 3.25153294,  5.35388783,  1.        ],\n       [ 0.72990606,  3.21870005,  1.        ],\n       [ 7.20879955,  8.3360702 ,  1.        ],\n       [ 5.99136446,  7.39497722,  1.        ],\n       [ 4.7478536 ,  1.45391089,  1.        ],\n       [ 8.09005635,  3.31396739,  1.        ],\n       [ 7.62420186,  4.0751457 ,  1.        ],\n       [ 6.60946469,  7.66426536,  1.        ],\n       [ 6.46300672,  5.3954117 ,  1.        ],\n       [ 5.51708846,  5.30253144,  1.        ],\n       [ 7.04648755,  3.6131098 ,  1.        ],\n       [ 7.3985334 ,  7.57946958,  1.        ],\n       [ 4.70230593,  7.07370215,  1.        ],\n       [ 4.28700154,  6.08876151,  1.        ],\n       [ 9.5582824 ,  7.3002467 ,  1.        ],\n       [ 1.54903357,  7.0706111 ,  1.        ],\n       [ 2.00046922,  3.93143967,  1.        ],\n       [ 7.75944245,  6.26770377,  1.        ],\n       [ 2.55824068,  5.85280749,  1.        ],\n       [ 5.22126387,  2.80056985,  1.        ],\n       [ 6.30728917,  6.66460117,  1.        ],\n       [ 1.95097416,  5.84278204,  1.        ],\n       [ 8.0986082 ,  3.59238706,  1.        ],\n       [ 5.48942407,  7.22983846,  1.        ],\n       [ 6.410045  ,  7.88624666,  1.        ],\n       [ 3.40056532,  2.78119603,  1.        ],\n       [ 4.32768674,  6.9385098 ,  1.        ],\n       [ 4.13782943,  6.72708466,  1.        ],\n       [ 9.79179279,  3.15717906,  1.        ],\n       [ 2.77271172,  4.11520293,  1.        ],\n       [ 6.79948739,  4.49451897,  1.        ],\n       [ 5.03644739,  8.36696097,  1.        ],\n       [ 2.22999113,  4.19958087,  1.        ],\n       [ 4.76775817,  7.39860356,  1.        ],\n       [ 6.30052927,  9.13205402,  1.        ],\n       [ 3.47397115,  6.39193897,  1.        ],\n       [ 5.10577001,  6.72478455,  1.        ],\n       [ 7.86569223,  6.08874108,  1.        ],\n       [ 5.50523287,  6.2728519 ,  1.        ],\n       [ 4.65813039,  6.85875014,  1.        ],\n       [ 3.38090972,  5.9028044 ,  1.        ],\n       [ 4.92564844,  7.28495908,  1.        ],\n       [ 4.33532697,  6.49410949,  1.        ],\n       [ 5.71882755,  2.45967998,  1.        ],\n       [ 2.70044071,  5.95544742,  1.        ],\n       [ 8.05597371,  4.54049367,  1.        ],\n       [ 3.53029735,  5.49320103,  1.        ],\n       [ 4.59177286,  4.06664946,  1.        ],\n       [ 5.14664016,  7.24145669,  1.        ],\n       [ 4.48216809,  6.37496377,  1.        ],\n       [ 0.52226527,  9.47800555,  1.        ],\n       [ 4.81129818,  6.86250553,  1.        ],\n       [ 5.06458017,  6.14344638,  1.        ],\n       [ 8.28630387,  6.88836751,  1.        ],\n       [ 6.49775718,  5.59664431,  1.        ],\n       [ 6.15420924,  0.05058152,  1.        ],\n       [ 3.33749418,  6.59037132,  1.        ],\n       [ 3.67915098,  5.73319088,  1.        ],\n       [ 5.32569285, 10.74022893,  1.        ],\n       [ 3.80004216,  9.34379963,  1.        ],\n       [ 4.14284699,  4.78187536,  1.        ],\n       [ 7.69460778,  5.30456389,  1.        ],\n       [ 4.22929293,  7.31627813,  1.        ],\n       [ 3.38994541,  4.37411382,  1.        ],\n       [ 5.4079473 ,  5.55586645,  1.        ],\n       [ 6.72316726,  3.18920595,  1.        ],\n       [ 3.44209889,  6.8087949 ,  1.        ],\n       [ 5.37779148,  5.48761007,  1.        ],\n       [ 3.60857988,  6.58629192,  1.        ],\n       [ 4.36629458,  8.26473423,  1.        ],\n       [ 7.1881212 ,  6.0057496 ,  1.        ],\n       [ 2.45929961,  4.60327152,  1.        ],\n       [ 7.29755446,  3.97293013,  1.        ],\n       [ 3.78557623,  7.05670671,  1.        ],\n       [ 5.36534995,  5.210315  ,  1.        ]])"
     },
     "execution_count": 68,
     "metadata": {},
     "output_type": "execute_result"
    }
   ],
   "source": [
    "all_points"
   ],
   "metadata": {
    "collapsed": false,
    "pycharm": {
     "name": "#%%\n"
    }
   }
  },
  {
   "cell_type": "code",
   "execution_count": 69,
   "outputs": [
    {
     "data": {
      "text/plain": "<Figure size 432x432 with 1 Axes>",
      "image/png": "[encoded data removed]"
     },
     "metadata": {
      "needs_background": "light"
     },
     "output_type": "display_data"
    }
   ],
   "source": [
    "fig, ax = plt.subplots(figsize=(6, 6))\n",
    "ax.scatter(top_region[:, 0], top_region[:, 1], c='r')\n",
    "ax.scatter(bottom_region[:, 0], bottom_region[:, 1], c='b')\n",
    "draw(x1, x2)\n",
    "plt.show()"
   ],
   "metadata": {
    "collapsed": false,
    "pycharm": {
     "name": "#%%\n"
    }
   }
  },
  {
   "cell_type": "code",
   "execution_count": 70,
   "outputs": [
    {
     "data": {
      "text/plain": "matrix([[-0.12939205]])"
     },
     "execution_count": 70,
     "metadata": {},
     "output_type": "execute_result"
    }
   ],
   "source": [
    "calculate_error(line_parameters, all_points, y)"
   ],
   "metadata": {
    "collapsed": false,
    "pycharm": {
     "name": "#%%\n"
    }
   }
  },
  {
   "cell_type": "code",
   "execution_count": null,
   "outputs": [],
   "source": [],
   "metadata": {
    "collapsed": false,
    "pycharm": {
     "name": "#%%\n"
    }
   }
  }
 ],
 "metadata": {
  "kernelspec": {
   "display_name": "Python 3",
   "language": "python",
   "name": "python3"
  },
  "language_info": {
   "codemirror_mode": {
    "name": "ipython",
    "version": 2
   },
   "file_extension": ".py",
   "mimetype": "text/x-python",
   "name": "python",
   "nbconvert_exporter": "python",
   "pygments_lexer": "ipython2",
   "version": "2.7.6"
  }
 },
 "nbformat": 4,
 "nbformat_minor": 0
}