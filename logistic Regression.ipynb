{
 "cells": [
  {
   "cell_type": "code",
   "execution_count": 1,
   "metadata": {
    "collapsed": true,
    "pycharm": {
     "name": "#%%\n"
    }
   },
   "outputs": [],
   "source": [
    "import numpy as np\n",
    "import matplotlib.pyplot as plt"
   ]
  },
  {
   "cell_type": "code",
   "execution_count": 24,
   "outputs": [],
   "source": [
    "points=100\n",
    "np.random.seed(2222)\n",
    "top_region=np.array([np.random.normal(10, 2, points), np.random.normal(12, 2, points)]).T\n",
    "bottom_region=np.array([np.random.normal(5, 2, points), np.random.normal(6, 2, points)]).T"
   ],
   "metadata": {
    "collapsed": false,
    "pycharm": {
     "name": "#%%\n"
    }
   }
  },
  {
   "cell_type": "code",
   "execution_count": 25,
   "outputs": [
    {
     "data": {
      "text/plain": "array([[ 8.11841707, 13.5735829 ],\n       [12.02590793,  9.67795535],\n       [10.92916943, 14.47453286],\n       [11.43057172, 11.19256919],\n       [11.09947119, 10.16258843],\n       [ 7.54853604, 11.29896015],\n       [ 9.78485418, 12.7343046 ],\n       [ 9.12813572, 10.50411394],\n       [12.27274336, 12.99093737],\n       [11.22065714, 13.91655833],\n       [13.0887162 , 10.27839997],\n       [ 8.60542216, 12.46231494],\n       [ 9.93014563, 12.19047077],\n       [ 8.91735397, 11.85457191],\n       [12.14635294, 12.25327963],\n       [ 9.16304113,  8.92135002],\n       [10.76732241, 13.35980519],\n       [ 6.41141853, 11.67424322],\n       [ 7.39125028, 13.64646441],\n       [13.89483922, 13.55727638],\n       [11.06242681, 14.50870233],\n       [ 8.71357096, 13.2085523 ],\n       [11.64882655,  8.86508299],\n       [10.94760509,  8.96682741],\n       [11.78605314, 12.97822543],\n       [11.51280488, 11.76456854],\n       [10.05232682, 13.52344479],\n       [11.16283095, 12.70036297],\n       [13.56344228, 14.51216815],\n       [10.16214282, 14.15705265],\n       [ 9.65098401, 11.09529076],\n       [ 7.80334852, 11.9553469 ],\n       [ 6.4073961 , 17.81456357],\n       [ 8.31523296, 11.75596577],\n       [13.67345181, 12.1963091 ],\n       [ 9.28920893, 10.91509978],\n       [ 8.1412721 , 10.70611807],\n       [ 9.32353731, 10.26002703],\n       [10.68932725, 12.8033059 ],\n       [ 8.65345481, 11.24832514],\n       [ 5.86973265, 11.68781113],\n       [ 6.32203975, 12.90439229],\n       [11.56517012, 12.92716449],\n       [ 8.59845946, 14.98018234],\n       [12.8487215 , 10.22606937],\n       [13.28948208, 11.61692793],\n       [13.67528701, 11.04982936],\n       [ 6.68010328, 11.34273237],\n       [13.66928661, 11.17717877],\n       [ 8.45947978, 13.9537103 ],\n       [ 6.37420024,  8.54769683],\n       [11.55505809, 11.90757419],\n       [ 9.94090393, 14.42608638],\n       [ 9.16446399, 13.70365236],\n       [ 8.47128819, 12.69091167],\n       [11.92584272, 13.81231569],\n       [ 5.18775742, 12.23949199],\n       [10.49992577, 13.77906799],\n       [ 8.15164845, 13.85418713],\n       [11.87806552, 10.08573331],\n       [ 8.70217826, 13.83325494],\n       [11.49613812, 11.78794043],\n       [ 9.49312786, 10.1685268 ],\n       [10.52931586, 13.16939729],\n       [11.74575366, 12.30035791],\n       [10.02750948, 10.85972458],\n       [ 8.15836224, 15.14786296],\n       [ 9.80176301, 12.96171978],\n       [12.48226291, 12.50982804],\n       [ 9.36472779,  9.63920126],\n       [ 8.27746152,  9.24755377],\n       [10.52686698, 10.95541752],\n       [ 6.17714254,  9.71587479],\n       [ 7.79799868, 12.79933271],\n       [ 9.3509616 , 13.75529949],\n       [ 9.99177378,  9.55596545],\n       [10.90646687, 12.40201048],\n       [13.62236611, 12.13010268],\n       [12.04590303, 11.16725803],\n       [11.16710723, 15.54764102],\n       [12.72054068,  9.76537602],\n       [11.45956735, 11.73864793],\n       [12.16621024, 13.81307582],\n       [ 8.61149424, 14.5386509 ],\n       [14.50723081,  9.59038024],\n       [13.30329667, 11.63275247],\n       [ 9.05947889, 11.98856302],\n       [ 8.5920425 , 11.70979219],\n       [ 9.10663856, 11.53953288],\n       [10.51877325, 14.64403031],\n       [12.36173499,  8.37353687],\n       [ 8.54187476, 12.28035986],\n       [ 9.2924893 , 11.87884519],\n       [11.21147349, 13.17587513],\n       [10.6132277 , 10.10325823],\n       [ 7.62161377, 12.88571847],\n       [11.63429813, 14.51748771],\n       [10.55623753, 10.61050051],\n       [12.38761295, 15.47513627],\n       [ 8.39840931,  9.59870067]])"
     },
     "execution_count": 25,
     "metadata": {},
     "output_type": "execute_result"
    }
   ],
   "source": [
    "top_region"
   ],
   "metadata": {
    "collapsed": false,
    "pycharm": {
     "name": "#%%\n"
    }
   }
  },
  {
   "cell_type": "code",
   "execution_count": 26,
   "outputs": [
    {
     "data": {
      "text/plain": "<Figure size 288x288 with 1 Axes>",
      "image/png": "[encoded data removed]"
     },
     "metadata": {
      "needs_background": "light"
     },
     "output_type": "display_data"
    }
   ],
   "source": [
    "fig, ax = plt.subplots(figsize=(4, 4))\n",
    "ax.scatter(top_region[:, 0], top_region[:, 1], c='r')\n",
    "ax.scatter(bottom_region[:, 0], bottom_region[:, 1], c='b')\n",
    "plt.show()"
   ],
   "metadata": {
    "collapsed": false,
    "pycharm": {
     "name": "#%%\n"
    }
   }
  },
  {
   "cell_type": "code",
   "execution_count": null,
   "outputs": [],
   "source": [],
   "metadata": {
    "collapsed": false,
    "pycharm": {
     "name": "#%%\n"
    }
   }
  }
 ],
 "metadata": {
  "kernelspec": {
   "display_name": "Python 3",
   "language": "python",
   "name": "python3"
  },
  "language_info": {
   "codemirror_mode": {
    "name": "ipython",
    "version": 2
   },
   "file_extension": ".py",
   "mimetype": "text/x-python",
   "name": "python",
   "nbconvert_exporter": "python",
   "pygments_lexer": "ipython2",
   "version": "2.7.6"
  }
 },
 "nbformat": 4,
 "nbformat_minor": 0
}